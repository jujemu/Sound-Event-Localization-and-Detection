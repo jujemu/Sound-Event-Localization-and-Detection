{
 "cells": [
  {
   "cell_type": "code",
   "execution_count": null,
   "metadata": {},
   "outputs": [],
   "source": []
  }
 ],
 "metadata": {
  "kernelspec": {
   "display_name": "Python 3.8.13 ('capstone')",
   "language": "python",
   "name": "python3"
  },
  "language_info": {
   "name": "python",
   "version": "3.8.13"
  },
  "orig_nbformat": 4,
  "vscode": {
   "interpreter": {
    "hash": "27cd9234f1897a1f8a3ad37fe9f16bb98f0333b350b96233a3929534043cb89f"
   }
  }
 },
 "nbformat": 4,
 "nbformat_minor": 2
}
